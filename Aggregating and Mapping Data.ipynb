{
 "cells": [
  {
   "cell_type": "markdown",
   "metadata": {},
   "source": [
    "### The basic setup"
   ]
  },
  {
   "cell_type": "code",
   "execution_count": 1,
   "metadata": {},
   "outputs": [],
   "source": [
    "import os\n",
    "import tempfile\n",
    "import zipfile\n",
    "from typing import Union\n",
    "\n",
    "import census\n",
    "import dotenv\n",
    "import folium\n",
    "import geopandas as gpd\n",
    "import pandas as pd\n",
    "import requests\n",
    "import us\n",
    "\n",
    "dotenv.load_dotenv()\n",
    "\n",
    "%matplotlib inline"
   ]
  },
  {
   "cell_type": "code",
   "execution_count": 2,
   "metadata": {},
   "outputs": [],
   "source": [
    "# Create a handler\n",
    "c = census.Census(os.environ['CENSUS_API_KEY'])"
   ]
  },
  {
   "cell_type": "code",
   "execution_count": 3,
   "metadata": {},
   "outputs": [],
   "source": [
    "## Grab shapefiles for tracts\n",
    "def get_shapefile(state_fips: str,\n",
    "                  filename: str,\n",
    "                  level: str = 'TRACT',\n",
    "                  year: Union[str, int] = 2018):\n",
    "    \"\"\"\n",
    "    Get a shapefile from the Census's archive and place it in `filename`.\n",
    "    \n",
    "    Args:\n",
    "        state_fips: The FIPS code of the state to pull the shapefiles for\n",
    "        filename: The filename to save the shapefile to\n",
    "        level: What level to pull. Tested on:\n",
    "            * TRACT\n",
    "            * COUNTY\n",
    "            * BG (Block Group)\n",
    "        year: The year that we will pull shapefiles from\n",
    "    \"\"\"\n",
    "    url = 'https://www2.census.gov/geo/tiger/TIGER{year}/{level}/tl_{year}_{fips}_{lower_level}.zip'.format(\n",
    "        level=level.upper(),\n",
    "        lower_level=level.lower(),\n",
    "        year=year,\n",
    "        fips=state_fips\n",
    "    )\n",
    "    resp = requests.get(url, stream=True)\n",
    "    resp.raise_for_status()\n",
    "    with open(filename, 'wb') as f:\n",
    "        for block in resp.iter_content(1024):\n",
    "            f.write(block)\n",
    "\n",
    "def open_zipped_shapefile(zipped_shapefile: str) -> gpd.GeoDataFrame:\n",
    "    \"\"\"\n",
    "    Load a shapefile that is zipped into a GeoDataFrame.\n",
    "    \n",
    "    Args:\n",
    "        zipped_shapefile: The location of the shapefile to open\n",
    "    \n",
    "    Returns:\n",
    "        The GeoDataFrame representing this shapefile\n",
    "    \"\"\"\n",
    "    with tempfile.TemporaryDirectory() as tmpdir:\n",
    "        with zipfile.ZipFile(zipped_shapefile, 'r') as zipref:\n",
    "            zipref.extractall(tmpdir)\n",
    "        return gpd.read_file(tmpdir)"
   ]
  },
  {
   "cell_type": "code",
   "execution_count": 4,
   "metadata": {},
   "outputs": [],
   "source": [
    "# Some data we'll plot may be interested in:\n",
    "variables = [\n",
    "    'NAME',         # Name of geography\n",
    "    'B01001_001E',  # Total population\n",
    "    'B19013_001E',  # Household median income\n",
    "]"
   ]
  },
  {
   "cell_type": "code",
   "execution_count": 5,
   "metadata": {},
   "outputs": [],
   "source": [
    "get_shapefile(us.states.RI.fips, 'ri_tracts.zip')\n",
    "get_shapefile(us.states.RI.fips, 'ri_bgs.zip', level='BG')\n",
    "tract_df = open_zipped_shapefile('ri_tracts.zip')\n",
    "bg_df = open_zipped_shapefile('ri_bgs.zip')"
   ]
  },
  {
   "cell_type": "code",
   "execution_count": 6,
   "metadata": {},
   "outputs": [],
   "source": [
    "# Create county and state boundaries\n",
    "county_df = tract_df.dissolve(by='COUNTYFP')\n",
    "state_df = county_df.dissolve(by='STATEFP')"
   ]
  },
  {
   "cell_type": "markdown",
   "metadata": {},
   "source": [
    "### Using shapefiles to enumerate FIPS codes and plotting data"
   ]
  },
  {
   "cell_type": "code",
   "execution_count": null,
   "metadata": {},
   "outputs": [],
   "source": [
    "# Get the collection of county FIPS from the tract shapefile\n",
    "state_county_fips = tract_df[['STATEFP', 'COUNTYFP']].drop_duplicates().values\n",
    "\n",
    "# Pull all the data from \n",
    "data = []\n",
    "for state_fips, county_fips in state_county_fips:\n",
    "    pulled = c.acs5.state_county_tract(variables, state_fips, county_fips, '*')\n",
    "    data.extend(pulled)\n",
    "    "
   ]
  },
  {
   "cell_type": "code",
   "execution_count": null,
   "metadata": {},
   "outputs": [],
   "source": [
    "data_df = pd.DataFrame.from_records(data)\n",
    "for col in data_df.columns:\n",
    "    # Convert the data columns to floats\n",
    "    if col.startswith('B'):\n",
    "        data_df[col] = data_df[col].astype(float)\n",
    "\n",
    "# Concatenate the state, county, and tract FIPS to create the full GEOID\n",
    "# so we can join against the shapefile\n",
    "data_df['geoid'] = data_df.state + data_df.county + data_df.tract"
   ]
  },
  {
   "cell_type": "code",
   "execution_count": null,
   "metadata": {},
   "outputs": [],
   "source": [
    "data_df.head()"
   ]
  },
  {
   "cell_type": "code",
   "execution_count": null,
   "metadata": {},
   "outputs": [],
   "source": [
    "# Merge the shapefiles and the data\n",
    "tract_data = tract_df.merge(data_df, left_on='GEOID', right_on='geoid')"
   ]
  },
  {
   "cell_type": "code",
   "execution_count": null,
   "metadata": {},
   "outputs": [],
   "source": [
    "# Plot the population!\n",
    "# Note that there are tracts that have 0 population (they're water). Exclude them.\n",
    "tract_data[all_data.B01001_001E > 0].plot('B01001_001E', legend=True)"
   ]
  },
  {
   "cell_type": "code",
   "execution_count": null,
   "metadata": {},
   "outputs": [],
   "source": []
  },
  {
   "cell_type": "markdown",
   "metadata": {},
   "source": [
    "### Making interactive maps with Folium"
   ]
  },
  {
   "cell_type": "code",
   "execution_count": null,
   "metadata": {},
   "outputs": [],
   "source": [
    "# Make a constant marker so our choropleth will work\n",
    "state_df['marker'] = 1"
   ]
  },
  {
   "cell_type": "code",
   "execution_count": null,
   "metadata": {},
   "outputs": [],
   "source": [
    "# Plot the state outline\n",
    "m = folium.Map(\n",
    "    location=[41.6886, -71.5642],  # Coventry\n",
    "    tiles='Stamen Toner',\n",
    "    zoom_start=10,\n",
    "    control_scale=True,\n",
    "    prefer_canvas=True\n",
    ")\n",
    "\n",
    "folium.Choropleth(\n",
    "    geo_data=state_df,\n",
    "    name='choropleth',\n",
    "    data=state_df,\n",
    "    key_on='feature.properties.GEOID',\n",
    "    columns=['GEOID', 'marker'],\n",
    "    fill_color='YlGn',\n",
    "    fill_opacity=0.7,\n",
    "    line_opacity=0.2\n",
    ").add_to(m)\n",
    "\n",
    "m.save('state.html')"
   ]
  },
  {
   "cell_type": "code",
   "execution_count": null,
   "metadata": {},
   "outputs": [],
   "source": [
    "# Aggregate tract data into counties\n",
    "county_data = tract_data[['geometry', 'COUNTYFP', 'B01001_001E']]\\\n",
    "                .dissolve(by='COUNTYFP', aggfunc='sum')\\\n",
    "                .reset_index()"
   ]
  },
  {
   "cell_type": "code",
   "execution_count": null,
   "metadata": {},
   "outputs": [],
   "source": [
    "# Plot the county outlines and their populations\n",
    "\n",
    "m = folium.Map(\n",
    "    location=[41.6886, -71.5642],  # Coventry\n",
    "    tiles='Stamen Toner',\n",
    "    zoom_start=10,\n",
    "    control_scale=True,\n",
    "    prefer_canvas=True\n",
    ")\n",
    "\n",
    "folium.Choropleth(\n",
    "    geo_data=county_data,\n",
    "    name='choropleth',\n",
    "    data=county_data,\n",
    "    key_on='feature.properties.COUNTYFP',\n",
    "    columns=['COUNTYFP', 'B01001_001E'],\n",
    "    fill_color='YlGn',\n",
    "    fill_opacity=0.7,\n",
    "    line_opacity=0.2\n",
    ").add_to(m)\n",
    "\n",
    "m.save('county.html')"
   ]
  },
  {
   "cell_type": "code",
   "execution_count": null,
   "metadata": {},
   "outputs": [],
   "source": []
  },
  {
   "cell_type": "code",
   "execution_count": null,
   "metadata": {},
   "outputs": [],
   "source": []
  },
  {
   "cell_type": "code",
   "execution_count": null,
   "metadata": {},
   "outputs": [],
   "source": [
    "# Plot the tract populations\n",
    "\n",
    "m = folium.Map(\n",
    "    location=[41.6886, -71.5642],  # Coventry\n",
    "    tiles='Stamen Toner',\n",
    "    zoom_start=10,\n",
    "    control_scale=True,\n",
    "    prefer_canvas=True\n",
    ")\n",
    "\n",
    "folium.Choropleth(\n",
    "    geo_data=all_data,\n",
    "    name='choropleth',\n",
    "    data=all_data,\n",
    "    key_on='feature.properties.GEOID',\n",
    "    columns=['GEOID', 'B01001_001E'],\n",
    "    fill_color='YlGn',\n",
    "    fill_opacity=0.7,\n",
    "    line_opacity=0.2\n",
    ").add_to(m)\n",
    "\n",
    "m.save('tract.html')"
   ]
  },
  {
   "cell_type": "code",
   "execution_count": null,
   "metadata": {},
   "outputs": [],
   "source": []
  },
  {
   "cell_type": "code",
   "execution_count": null,
   "metadata": {},
   "outputs": [],
   "source": []
  },
  {
   "cell_type": "code",
   "execution_count": null,
   "metadata": {},
   "outputs": [],
   "source": []
  },
  {
   "cell_type": "code",
   "execution_count": null,
   "metadata": {},
   "outputs": [],
   "source": [
    "# Repeat the above process for *block groups*\n",
    "state_county_fips = tract_df[['STATEFP', 'COUNTYFP']].drop_duplicates().values\n",
    "\n",
    "# Pull all the data from \n",
    "data = []\n",
    "for state_fips, county_fips in state_county_fips:\n",
    "    pulled = c.acs5.state_county_blockgroup(variables, state_fips, county_fips, '*')\n",
    "    data.extend(pulled)\n",
    "\n",
    "data_df = pd.DataFrame.from_records(data)\n",
    "for col in data_df.columns:\n",
    "    # Convert the data columns to floats\n",
    "    if col.startswith('B'):\n",
    "        data_df[col] = data_df[col].astype(float)\n",
    "\n",
    "# Concatenate the state, county, and tract FIPS to create the full GEOID\n",
    "# so we can join against the shapefile\n",
    "data_df['geoid'] = data_df.state + data_df.county + data_df.tract + data_df['block group']\n",
    "\n",
    "# Merge the shapefiles and the data\n",
    "bg_data = bg_df.merge(data_df, left_on='GEOID', right_on='geoid')"
   ]
  },
  {
   "cell_type": "code",
   "execution_count": null,
   "metadata": {},
   "outputs": [],
   "source": [
    "# Plot population at block group level\n",
    "\n",
    "m = folium.Map(\n",
    "    location=[41.6886, -71.5642],  # Coventry\n",
    "    tiles='Stamen Toner',\n",
    "    zoom_start=10,\n",
    "    control_scale=True,\n",
    "    prefer_canvas=True\n",
    ")\n",
    "\n",
    "folium.Choropleth(\n",
    "    geo_data=bg_data,\n",
    "    name='choropleth',\n",
    "    data=bg_data,\n",
    "    key_on='feature.properties.GEOID',\n",
    "    columns=['GEOID', 'B01001_001E'],\n",
    "    fill_color='YlGn',\n",
    "    fill_opacity=0.7,\n",
    "    line_opacity=0.2\n",
    ").add_to(m)\n",
    "\n",
    "m.save('bg.html')"
   ]
  },
  {
   "cell_type": "code",
   "execution_count": null,
   "metadata": {},
   "outputs": [],
   "source": []
  }
 ],
 "metadata": {
  "kernelspec": {
   "display_name": "Python 3",
   "language": "python",
   "name": "python3"
  },
  "language_info": {
   "codemirror_mode": {
    "name": "ipython",
    "version": 3
   },
   "file_extension": ".py",
   "mimetype": "text/x-python",
   "name": "python",
   "nbconvert_exporter": "python",
   "pygments_lexer": "ipython3",
   "version": "3.7.4"
  }
 },
 "nbformat": 4,
 "nbformat_minor": 2
}
