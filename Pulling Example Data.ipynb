{
 "cells": [
  {
   "cell_type": "markdown",
   "metadata": {},
   "source": [
    "### The basic setup"
   ]
  },
  {
   "cell_type": "code",
   "execution_count": 1,
   "metadata": {},
   "outputs": [],
   "source": [
    "import os\n",
    "import tempfile\n",
    "import zipfile\n",
    "from typing import Union\n",
    "\n",
    "import census\n",
    "import dotenv\n",
    "import geopandas as gpd\n",
    "import pandas as pd\n",
    "import requests\n",
    "import us\n",
    "\n",
    "dotenv.load_dotenv()\n",
    "\n",
    "%matplotlib inline"
   ]
  },
  {
   "cell_type": "code",
   "execution_count": 2,
   "metadata": {},
   "outputs": [],
   "source": [
    "# Create a handler\n",
    "c = census.Census(os.environ['CENSUS_API_KEY'])"
   ]
  },
  {
   "cell_type": "markdown",
   "metadata": {},
   "source": [
    "### Pulling data\n",
    "\n",
    "In this section, we assume that you know the FIPS codes you're looking to exploit. In the following, `us.states.LA.fips` gives us Louisiana's code and `071` is the code for Orleans Parish (the leading `0` is, indeed, important)."
   ]
  },
  {
   "cell_type": "code",
   "execution_count": 3,
   "metadata": {},
   "outputs": [],
   "source": [
    "# Get total population for all states\n",
    "data = c.acs5.state(['NAME', 'B01001_001E'], '*')"
   ]
  },
  {
   "cell_type": "code",
   "execution_count": 4,
   "metadata": {},
   "outputs": [
    {
     "data": {
      "text/html": [
       "<div>\n",
       "<style scoped>\n",
       "    .dataframe tbody tr th:only-of-type {\n",
       "        vertical-align: middle;\n",
       "    }\n",
       "\n",
       "    .dataframe tbody tr th {\n",
       "        vertical-align: top;\n",
       "    }\n",
       "\n",
       "    .dataframe thead th {\n",
       "        text-align: right;\n",
       "    }\n",
       "</style>\n",
       "<table border=\"1\" class=\"dataframe\">\n",
       "  <thead>\n",
       "    <tr style=\"text-align: right;\">\n",
       "      <th></th>\n",
       "      <th>NAME</th>\n",
       "      <th>B01001_001E</th>\n",
       "      <th>state</th>\n",
       "    </tr>\n",
       "  </thead>\n",
       "  <tbody>\n",
       "    <tr>\n",
       "      <th>0</th>\n",
       "      <td>Puerto Rico</td>\n",
       "      <td>3468963</td>\n",
       "      <td>72</td>\n",
       "    </tr>\n",
       "    <tr>\n",
       "      <th>1</th>\n",
       "      <td>Alabama</td>\n",
       "      <td>4850771</td>\n",
       "      <td>01</td>\n",
       "    </tr>\n",
       "    <tr>\n",
       "      <th>2</th>\n",
       "      <td>Alaska</td>\n",
       "      <td>738565</td>\n",
       "      <td>02</td>\n",
       "    </tr>\n",
       "    <tr>\n",
       "      <th>3</th>\n",
       "      <td>Arizona</td>\n",
       "      <td>6809946</td>\n",
       "      <td>04</td>\n",
       "    </tr>\n",
       "    <tr>\n",
       "      <th>4</th>\n",
       "      <td>Arkansas</td>\n",
       "      <td>2977944</td>\n",
       "      <td>05</td>\n",
       "    </tr>\n",
       "  </tbody>\n",
       "</table>\n",
       "</div>"
      ],
      "text/plain": [
       "          NAME  B01001_001E state\n",
       "0  Puerto Rico      3468963    72\n",
       "1      Alabama      4850771    01\n",
       "2       Alaska       738565    02\n",
       "3      Arizona      6809946    04\n",
       "4     Arkansas      2977944    05"
      ]
     },
     "execution_count": 4,
     "metadata": {},
     "output_type": "execute_result"
    }
   ],
   "source": [
    "# Transform into a data frame\n",
    "variables = ['NAME', 'B01001_001E']\n",
    "data = c.acs5.state(variables, '*')\n",
    "df = pd.DataFrame.from_records(data)\n",
    "\n",
    "# Note that the API returns integers as strings\n",
    "# This is because sometimes it has things like '250000+' at capped variables\n",
    "# You can try to convert the type, but be wary of these caps and the\n",
    "# actual strings that appear.\n",
    "df['B01001_001E'] = df.B01001_001E.astype(int)\n",
    "df.head()"
   ]
  },
  {
   "cell_type": "code",
   "execution_count": 5,
   "metadata": {},
   "outputs": [
    {
     "data": {
      "text/html": [
       "<div>\n",
       "<style scoped>\n",
       "    .dataframe tbody tr th:only-of-type {\n",
       "        vertical-align: middle;\n",
       "    }\n",
       "\n",
       "    .dataframe tbody tr th {\n",
       "        vertical-align: top;\n",
       "    }\n",
       "\n",
       "    .dataframe thead th {\n",
       "        text-align: right;\n",
       "    }\n",
       "</style>\n",
       "<table border=\"1\" class=\"dataframe\">\n",
       "  <thead>\n",
       "    <tr style=\"text-align: right;\">\n",
       "      <th></th>\n",
       "      <th>NAME</th>\n",
       "      <th>B01001_001E</th>\n",
       "      <th>state</th>\n",
       "      <th>county</th>\n",
       "      <th>tract</th>\n",
       "    </tr>\n",
       "  </thead>\n",
       "  <tbody>\n",
       "    <tr>\n",
       "      <th>0</th>\n",
       "      <td>Census Tract 145, Orleans Parish, Louisiana</td>\n",
       "      <td>2102</td>\n",
       "      <td>22</td>\n",
       "      <td>071</td>\n",
       "      <td>014500</td>\n",
       "    </tr>\n",
       "    <tr>\n",
       "      <th>1</th>\n",
       "      <td>Census Tract 9800, Orleans Parish, Louisiana</td>\n",
       "      <td>10</td>\n",
       "      <td>22</td>\n",
       "      <td>071</td>\n",
       "      <td>980000</td>\n",
       "    </tr>\n",
       "    <tr>\n",
       "      <th>2</th>\n",
       "      <td>Census Tract 17.49, Orleans Parish, Louisiana</td>\n",
       "      <td>3106</td>\n",
       "      <td>22</td>\n",
       "      <td>071</td>\n",
       "      <td>001749</td>\n",
       "    </tr>\n",
       "    <tr>\n",
       "      <th>3</th>\n",
       "      <td>Census Tract 71.01, Orleans Parish, Louisiana</td>\n",
       "      <td>2533</td>\n",
       "      <td>22</td>\n",
       "      <td>071</td>\n",
       "      <td>007101</td>\n",
       "    </tr>\n",
       "    <tr>\n",
       "      <th>4</th>\n",
       "      <td>Census Tract 34, Orleans Parish, Louisiana</td>\n",
       "      <td>1394</td>\n",
       "      <td>22</td>\n",
       "      <td>071</td>\n",
       "      <td>003400</td>\n",
       "    </tr>\n",
       "  </tbody>\n",
       "</table>\n",
       "</div>"
      ],
      "text/plain": [
       "                                            NAME  B01001_001E state county  \\\n",
       "0    Census Tract 145, Orleans Parish, Louisiana         2102    22    071   \n",
       "1   Census Tract 9800, Orleans Parish, Louisiana           10    22    071   \n",
       "2  Census Tract 17.49, Orleans Parish, Louisiana         3106    22    071   \n",
       "3  Census Tract 71.01, Orleans Parish, Louisiana         2533    22    071   \n",
       "4     Census Tract 34, Orleans Parish, Louisiana         1394    22    071   \n",
       "\n",
       "    tract  \n",
       "0  014500  \n",
       "1  980000  \n",
       "2  001749  \n",
       "3  007101  \n",
       "4  003400  "
      ]
     },
     "execution_count": 5,
     "metadata": {},
     "output_type": "execute_result"
    }
   ],
   "source": [
    "# Same data, but for all tracts in New Orleans\n",
    "data = c.acs5.state_county_tract(\n",
    "    variables,\n",
    "    us.states.LA.fips,  # The US package can be convient to find some basic FIPS codes of states\n",
    "    '071',  # Search online for \"Orleans Parish FIPS code\"\n",
    "    '*'  # Data for *all* tracts in this county\n",
    ")\n",
    "df = pd.DataFrame.from_records(data)\n",
    "df['B01001_001E'] = df.B01001_001E.astype(int)\n",
    "df.head()"
   ]
  },
  {
   "cell_type": "code",
   "execution_count": 6,
   "metadata": {},
   "outputs": [],
   "source": [
    "# Some data you may be interested in:\n",
    "variables = [\n",
    "    'NAME',         # Name of geography\n",
    "    'B01001_001E',  # Total population\n",
    "    'B19013_001E',  # Household median income\n",
    "]"
   ]
  },
  {
   "cell_type": "markdown",
   "metadata": {},
   "source": [
    "### Pulling shapefiles"
   ]
  },
  {
   "cell_type": "code",
   "execution_count": 7,
   "metadata": {},
   "outputs": [],
   "source": [
    "## Grab shapefiles for tracts\n",
    "def get_shapefile(state_fips: str,\n",
    "                  filename: str,\n",
    "                  level: str = 'TRACT',\n",
    "                  year: Union[str, int] = 2018):\n",
    "    \"\"\"\n",
    "    Get a shapefile from the Census's archive and place it in `filename`.\n",
    "    \n",
    "    Args:\n",
    "        state_fips: The FIPS code of the state to pull the shapefiles for\n",
    "        filename: The filename to save the shapefile to\n",
    "        level: What level to pull. Tested on:\n",
    "            * TRACT\n",
    "            * COUNTY\n",
    "            * BG (Block Group)\n",
    "        year: The year that we will pull shapefiles from\n",
    "    \"\"\"\n",
    "    url = 'https://www2.census.gov/geo/tiger/TIGER{year}/{level}/tl_{year}_{fips}_{lower_level}.zip'.format(\n",
    "        level=level.upper(),\n",
    "        lower_level=level.lower(),\n",
    "        year=year,\n",
    "        fips=state_fips\n",
    "    )\n",
    "    resp = requests.get(url, stream=True)\n",
    "    resp.raise_for_status()\n",
    "    with open(filename, 'wb') as f:\n",
    "        for block in resp.iter_content(1024):\n",
    "            f.write(block)\n",
    "\n",
    "def open_zipped_shapefile(zipped_shapefile: str) -> gpd.GeoDataFrame:\n",
    "    \"\"\"\n",
    "    Load a shapefile that is zipped into a GeoDataFrame.\n",
    "    \n",
    "    Args:\n",
    "        zipped_shapefile: The location of the shapefile to open\n",
    "    \n",
    "    Returns:\n",
    "        The GeoDataFrame representing this shapefile\n",
    "    \"\"\"\n",
    "    with tempfile.TemporaryDirectory() as tmpdir:\n",
    "        with zipfile.ZipFile(zipped_shapefile, 'r') as zipref:\n",
    "            zipref.extractall(tmpdir)\n",
    "        return gpd.read_file(tmpdir)"
   ]
  },
  {
   "cell_type": "code",
   "execution_count": 8,
   "metadata": {},
   "outputs": [],
   "source": [
    "get_shapefile(us.states.RI.fips, 'ri_tracts.zip')\n",
    "tract_df = open_zipped_shapefile('ri_tracts.zip')"
   ]
  },
  {
   "cell_type": "code",
   "execution_count": 9,
   "metadata": {},
   "outputs": [
    {
     "data": {
      "text/plain": [
       "007    141\n",
       "003     39\n",
       "009     30\n",
       "005     23\n",
       "001     11\n",
       "Name: COUNTYFP, dtype: int64"
      ]
     },
     "execution_count": 9,
     "metadata": {},
     "output_type": "execute_result"
    }
   ],
   "source": [
    "# Labeled columns include STATEFP and COUNTYFP for state and county FIPS codes.\n",
    "tract_df.COUNTYFP.value_counts()"
   ]
  },
  {
   "cell_type": "markdown",
   "metadata": {},
   "source": [
    "### Using shapefiles to enumerate FIPS codes and plotting data"
   ]
  },
  {
   "cell_type": "code",
   "execution_count": 10,
   "metadata": {},
   "outputs": [],
   "source": [
    "# Get the collection of county FIPS from the tract shapefile\n",
    "state_county_fips = tract_df[['STATEFP', 'COUNTYFP']].drop_duplicates().values\n",
    "\n",
    "# Pull all the data from \n",
    "data = []\n",
    "for state_fips, county_fips in state_county_fips:\n",
    "    pulled = c.acs5.state_county_tract(variables, state_fips, county_fips, '*')\n",
    "    data.extend(pulled)\n",
    "    "
   ]
  },
  {
   "cell_type": "code",
   "execution_count": 11,
   "metadata": {},
   "outputs": [],
   "source": [
    "data_df = pd.DataFrame.from_records(data)\n",
    "for col in data_df.columns:\n",
    "    # Convert the data columns to floats\n",
    "    if col.startswith('B'):\n",
    "        data_df[col] = data_df[col].astype(float)\n",
    "\n",
    "# Concatenate the state, county, and tract FIPS to create the full GEOID\n",
    "# so we can join against the shapefile\n",
    "data_df['geoid'] = data_df.state + data_df.county + data_df.tract"
   ]
  },
  {
   "cell_type": "code",
   "execution_count": 12,
   "metadata": {},
   "outputs": [
    {
     "data": {
      "text/html": [
       "<div>\n",
       "<style scoped>\n",
       "    .dataframe tbody tr th:only-of-type {\n",
       "        vertical-align: middle;\n",
       "    }\n",
       "\n",
       "    .dataframe tbody tr th {\n",
       "        vertical-align: top;\n",
       "    }\n",
       "\n",
       "    .dataframe thead th {\n",
       "        text-align: right;\n",
       "    }\n",
       "</style>\n",
       "<table border=\"1\" class=\"dataframe\">\n",
       "  <thead>\n",
       "    <tr style=\"text-align: right;\">\n",
       "      <th></th>\n",
       "      <th>NAME</th>\n",
       "      <th>B01001_001E</th>\n",
       "      <th>B19013_001E</th>\n",
       "      <th>state</th>\n",
       "      <th>county</th>\n",
       "      <th>tract</th>\n",
       "      <th>geoid</th>\n",
       "    </tr>\n",
       "  </thead>\n",
       "  <tbody>\n",
       "    <tr>\n",
       "      <th>0</th>\n",
       "      <td>Census Tract 417.02, Newport County, Rhode Island</td>\n",
       "      <td>4730.0</td>\n",
       "      <td>89375.0</td>\n",
       "      <td>44</td>\n",
       "      <td>005</td>\n",
       "      <td>041702</td>\n",
       "      <td>44005041702</td>\n",
       "    </tr>\n",
       "    <tr>\n",
       "      <th>1</th>\n",
       "      <td>Census Tract 417.01, Newport County, Rhode Island</td>\n",
       "      <td>3413.0</td>\n",
       "      <td>73958.0</td>\n",
       "      <td>44</td>\n",
       "      <td>005</td>\n",
       "      <td>041701</td>\n",
       "      <td>44005041701</td>\n",
       "    </tr>\n",
       "    <tr>\n",
       "      <th>2</th>\n",
       "      <td>Census Tract 9900, Newport County, Rhode Island</td>\n",
       "      <td>0.0</td>\n",
       "      <td>-666666666.0</td>\n",
       "      <td>44</td>\n",
       "      <td>005</td>\n",
       "      <td>990000</td>\n",
       "      <td>44005990000</td>\n",
       "    </tr>\n",
       "    <tr>\n",
       "      <th>3</th>\n",
       "      <td>Census Tract 413, Newport County, Rhode Island</td>\n",
       "      <td>5505.0</td>\n",
       "      <td>105201.0</td>\n",
       "      <td>44</td>\n",
       "      <td>005</td>\n",
       "      <td>041300</td>\n",
       "      <td>44005041300</td>\n",
       "    </tr>\n",
       "    <tr>\n",
       "      <th>4</th>\n",
       "      <td>Census Tract 416.01, Newport County, Rhode Island</td>\n",
       "      <td>3309.0</td>\n",
       "      <td>54115.0</td>\n",
       "      <td>44</td>\n",
       "      <td>005</td>\n",
       "      <td>041601</td>\n",
       "      <td>44005041601</td>\n",
       "    </tr>\n",
       "  </tbody>\n",
       "</table>\n",
       "</div>"
      ],
      "text/plain": [
       "                                                NAME  B01001_001E  \\\n",
       "0  Census Tract 417.02, Newport County, Rhode Island       4730.0   \n",
       "1  Census Tract 417.01, Newport County, Rhode Island       3413.0   \n",
       "2    Census Tract 9900, Newport County, Rhode Island          0.0   \n",
       "3     Census Tract 413, Newport County, Rhode Island       5505.0   \n",
       "4  Census Tract 416.01, Newport County, Rhode Island       3309.0   \n",
       "\n",
       "   B19013_001E state county   tract        geoid  \n",
       "0      89375.0    44    005  041702  44005041702  \n",
       "1      73958.0    44    005  041701  44005041701  \n",
       "2 -666666666.0    44    005  990000  44005990000  \n",
       "3     105201.0    44    005  041300  44005041300  \n",
       "4      54115.0    44    005  041601  44005041601  "
      ]
     },
     "execution_count": 12,
     "metadata": {},
     "output_type": "execute_result"
    }
   ],
   "source": [
    "data_df.head()"
   ]
  },
  {
   "cell_type": "code",
   "execution_count": 13,
   "metadata": {},
   "outputs": [],
   "source": [
    "# Merge the shapefiles and the data\n",
    "all_data = tract_df.merge(data_df, left_on='GEOID', right_on='geoid')"
   ]
  },
  {
   "cell_type": "code",
   "execution_count": 14,
   "metadata": {},
   "outputs": [
    {
     "data": {
      "text/plain": [
       "<matplotlib.axes._subplots.AxesSubplot at 0x122373750>"
      ]
     },
     "execution_count": 14,
     "metadata": {},
     "output_type": "execute_result"
    },
    {
     "data": {
      "image/png": "[encoded data removed]",
      "text/plain": [
       "<Figure size 432x288 with 2 Axes>"
      ]
     },
     "metadata": {
      "needs_background": "light"
     },
     "output_type": "display_data"
    }
   ],
   "source": [
    "# Plot the population!\n",
    "# Note that there are tracts that have 0 population (they're water). Exclude them.\n",
    "all_data[all_data.B01001_001E > 0].plot('B01001_001E', legend=True)"
   ]
  }
 ],
 "metadata": {
  "kernelspec": {
   "display_name": "Python 3",
   "language": "python",
   "name": "python3"
  },
  "language_info": {
   "codemirror_mode": {
    "name": "ipython",
    "version": 3
   },
   "file_extension": ".py",
   "mimetype": "text/x-python",
   "name": "python",
   "nbconvert_exporter": "python",
   "pygments_lexer": "ipython3",
   "version": "3.7.4"
  }
 },
 "nbformat": 4,
 "nbformat_minor": 2
}
